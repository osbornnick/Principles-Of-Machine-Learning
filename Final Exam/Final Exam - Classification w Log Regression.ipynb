{
 "cells": [
  {
   "cell_type": "code",
   "execution_count": 1,
   "metadata": {},
   "outputs": [],
   "source": [
    "import pandas as pd\n",
    "import matplotlib.pyplot as plt\n",
    "import seaborn as sns\n",
    "import numpy as np\n",
    "import numpy.random as nr\n",
    "import math\n",
    "from sklearn import preprocessing\n",
    "import sklearn.model_selection as ms\n",
    "from sklearn import feature_selection as fs\n",
    "from sklearn import linear_model\n",
    "import sklearn.metrics as sklm\n",
    "from datetime import date\n",
    "\n",
    "%matplotlib inline"
   ]
  },
  {
   "cell_type": "code",
   "execution_count": null,
   "metadata": {},
   "outputs": [],
   "source": [
    "#import\n",
    "#scale\n",
    "#reduce features\n",
    "#seperate intro train/test"
   ]
  },
  {
   "cell_type": "code",
   "execution_count": 67,
   "metadata": {},
   "outputs": [],
   "source": [
    "def calc_age(birthday):\n",
    "    today = date(1998, 1, 1)\n",
    "    birthday = list(map(int, birthday.split('-')))\n",
    "    born = date(birthday[0], birthday[1], birthday[2])\n",
    "    return today.year - born.year - ((today.month, today.day) < (born.month, born.day))\n",
    "\n",
    "def import_clean():\n",
    "    # imports features and labels\n",
    "    import_features = pd.read_csv('AdvWorksCusts.csv')\n",
    "    import_labels = pd.read_csv('AW_BikeBuyer.csv')\n",
    "    import_features = import_features.drop_duplicates(subset='CustomerID')\n",
    "    import_labels = import_labels.drop_duplicates(subset='CustomerID')\n",
    "\n",
    "    temp = import_features.merge(import_labels, how='left', on='CustomerID')\n",
    "    temp['Age'] = [calc_age(birthday) for birthday in temp['BirthDate']]\n",
    "\n",
    "    cat_cols = ['Education', 'Occupation', 'Gender', 'MaritalStatus', 'CountryRegionName']\n",
    "    num_cols = ['Age', 'YearlyIncome', 'TotalChildren', 'NumberChildrenAtHome', 'NumberCarsOwned']\n",
    "    cat_already_encoded = ['HomeOwnerFlag']\n",
    "    \n",
    "    Labels = np.array(temp['BikeBuyer'])\n",
    "    # Features has 15 categorical features, that have been one hot encoded\n",
    "    Features = encode_string(temp[cat_cols])\n",
    "    Features = np.concatenate([Features, np.array(temp[cat_already_encoded])], axis=1)\n",
    "    num_cat = Features.shape[1]\n",
    "    # concatenate numeric features\n",
    "    Features = np.concatenate([Features, np.array(temp[num_cols])], axis=1)\n",
    "    return Features, Labels, num_cat\n",
    "\n",
    "def encode_string(cat_features):\n",
    "    ohe = preprocessing.OneHotEncoder(categories = 'auto')\n",
    "    encoded = ohe.fit(cat_features)\n",
    "    return encoded.transform(cat_features).toarray()\n",
    "\n",
    "# create training, test sets\n",
    "def create_sets(Features, Labels):\n",
    "    nr.seed(9988)\n",
    "    indx = range(Features.shape[0])\n",
    "    indx = ms.train_test_split(indx, test_size = .3)\n",
    "    X_train = Features[indx[0],:]\n",
    "    y_train = np.ravel(Labels[indx[0]])\n",
    "    X_test = Features[indx[1],:]\n",
    "    y_test = np.ravel(Labels[indx[1]])\n",
    "    return X_train, y_train, X_test, y_test\n",
    "\n",
    "def scale(features, num_cat):\n",
    "    scaler = preprocessing.StandardScaler().fit(features[:, num_cat:])\n",
    "    features[:,num_cat:] = scaler.transform(features[:, num_cat:])\n",
    "    return features, scaler\n",
    "\n",
    "def reduce(Features):\n",
    "    sel = fs.VarianceThreshold(threshold=(.8 * (1 - .8)))\n",
    "    Features_reduced = sel.fit_transform(Features)\n",
    "    print(sel.get_support())\n",
    "    print(Features_reduced.shape)\n",
    "    print(Features_reduced[0])\n",
    "    return Features_reduced\n",
    "\n",
    "Features, Labels, num_cat = import_clean()\n",
    "Features, scaler = scale(Features, num_cat)\n",
    "#Features = reduce(Features)\n",
    "X_train, y_train, X_test, y_test = create_sets(Features, Labels)\n",
    "#X_train, X_test = scale(X_train,X_test, )"
   ]
  },
  {
   "cell_type": "markdown",
   "metadata": {},
   "source": [
    "## Feature Selection"
   ]
  },
  {
   "cell_type": "code",
   "execution_count": 50,
   "metadata": {},
   "outputs": [
    {
     "data": {
      "text/plain": [
       "0.1"
      ]
     },
     "execution_count": 50,
     "metadata": {},
     "output_type": "execute_result"
    }
   ],
   "source": [
    "nr.seed(123)\n",
    "inside = ms.KFold(n_splits=10, shuffle = True)\n",
    "nr.seed(321)\n",
    "outside = ms.KFold(n_splits=10, shuffle = True)\n",
    "\n",
    "nr.seed(3456)\n",
    "## Define the dictionary for the grid search and the model object to search on\n",
    "param_grid = {\"C\": [0.1, 1, 10, 100, 1000]}\n",
    "## Define the logistic regression model\n",
    "logistic_mod = linear_model.LogisticRegression(class_weight = {0:0.4, 1:0.6}, solver='liblinear') \n",
    "\n",
    "## Perform the grid search over the parameters\n",
    "clf = ms.GridSearchCV(estimator = logistic_mod, param_grid = param_grid, \n",
    "                      cv = inside, # Use the inside folds\n",
    "                      scoring = 'roc_auc',\n",
    "                      return_train_score = True)\n",
    "\n",
    "## Fit the cross validated grid search over the data \n",
    "clf.fit(Features, Labels)\n",
    "\n",
    "## And print the best parameter value\n",
    "clf.best_estimator_.C"
   ]
  },
  {
   "cell_type": "code",
   "execution_count": 54,
   "metadata": {},
   "outputs": [
    {
     "name": "stdout",
     "output_type": "stream",
     "text": [
      "Mean performance metric = 0.835\n",
      "SDT of the metric       = 0.010\n",
      "Outcomes by cv fold\n",
      "Fold  1    0.835\n",
      "Fold  2    0.827\n",
      "Fold  3    0.840\n",
      "Fold  4    0.840\n",
      "Fold  5    0.837\n",
      "Fold  6    0.839\n",
      "Fold  7    0.818\n",
      "Fold  8    0.822\n",
      "Fold  9    0.851\n",
      "Fold 10    0.843\n"
     ]
    }
   ],
   "source": [
    "nr.seed(498)\n",
    "cv_estimate = ms.cross_val_score(clf, Features, Labels, \n",
    "                                 cv = outside) # Use the outside folds\n",
    "print('Mean performance metric = %4.3f' % np.mean(cv_estimate))\n",
    "\n",
    "print('SDT of the metric       = %4.3f' % np.std(cv_estimate))\n",
    "print('Outcomes by cv fold')\n",
    "for i, x in enumerate(cv_estimate):\n",
    "    print('Fold %2d    %4.3f' % (i+1, x))"
   ]
  },
  {
   "cell_type": "code",
   "execution_count": 51,
   "metadata": {},
   "outputs": [
    {
     "data": {
      "text/plain": [
       "LogisticRegression(C=0.1, class_weight={0: 0.4, 1: 0.6}, dual=False,\n",
       "                   fit_intercept=True, intercept_scaling=1, l1_ratio=None,\n",
       "                   max_iter=100, multi_class='warn', n_jobs=None, penalty='l2',\n",
       "                   random_state=None, solver='liblinear', tol=0.0001, verbose=0,\n",
       "                   warm_start=False)"
      ]
     },
     "execution_count": 51,
     "metadata": {},
     "output_type": "execute_result"
    }
   ],
   "source": [
    "logistic_mod = linear_model.LogisticRegression(solver='liblinear', class_weight = {0:0.4, 1:0.6}, C = clf.best_estimator_.C) \n",
    "logistic_mod.fit(X_train, y_train)"
   ]
  },
  {
   "cell_type": "code",
   "execution_count": 52,
   "metadata": {},
   "outputs": [
    {
     "name": "stdout",
     "output_type": "stream",
     "text": [
      "                 Confusion matrix\n",
      "                 Score positive    Score negative\n",
      "Actual positive      2776               493\n",
      "Actual negative       583              1070\n",
      "\n",
      "Accuracy  0.78\n",
      " \n",
      "           Positive      Negative\n",
      "Num case     3269          1653\n",
      "Precision    0.83          0.68\n",
      "Recall       0.85          0.65\n",
      "F1           0.84          0.67\n"
     ]
    }
   ],
   "source": [
    "probabilities = logistic_mod.predict_proba(X_test)\n",
    "#print(probabilities[:15,:])\n",
    "\n",
    "def score_model(probs, threshold):\n",
    "    return np.array([1 if x > threshold else 0 for x in probs[:,1]])\n",
    "scores = score_model(probabilities, 0.5)\n",
    "#print(np.array(scores[:15]))\n",
    "#print(y_test[:15])\n",
    "\n",
    "def print_metrics(labels, scores):\n",
    "    metrics = sklm.precision_recall_fscore_support(labels, scores)\n",
    "    conf = sklm.confusion_matrix(labels, scores)\n",
    "    print('                 Confusion matrix')\n",
    "    print('                 Score positive    Score negative')\n",
    "    print('Actual positive    %6d' % conf[0,0] + '             %5d' % conf[0,1])\n",
    "    print('Actual negative    %6d' % conf[1,0] + '             %5d' % conf[1,1])\n",
    "    print('')\n",
    "    print('Accuracy  %0.2f' % sklm.accuracy_score(labels, scores))\n",
    "    print(' ')\n",
    "    print('           Positive      Negative')\n",
    "    print('Num case   %6d' % metrics[3][0] + '        %6d' % metrics[3][1])\n",
    "    print('Precision  %6.2f' % metrics[0][0] + '        %6.2f' % metrics[0][1])\n",
    "    print('Recall     %6.2f' % metrics[1][0] + '        %6.2f' % metrics[1][1])\n",
    "    print('F1         %6.2f' % metrics[2][0] + '        %6.2f' % metrics[2][1])\n",
    "\n",
    "\n",
    "    \n",
    "print_metrics(y_test, scores) "
   ]
  },
  {
   "cell_type": "code",
   "execution_count": 53,
   "metadata": {},
   "outputs": [
    {
     "data": {
      "image/png": "[encoded data removed]",
      "text/plain": [
       "<Figure size 432x288 with 1 Axes>"
      ]
     },
     "metadata": {
      "needs_background": "light"
     },
     "output_type": "display_data"
    }
   ],
   "source": [
    "def plot_auc(labels, probs):\n",
    "    ## Compute the false positive rate, true positive rate\n",
    "    ## and threshold along with the AUC\n",
    "    fpr, tpr, threshold = sklm.roc_curve(labels, probs[:,1])\n",
    "    auc = sklm.auc(fpr, tpr)\n",
    "    \n",
    "    ## Plot the result\n",
    "    plt.title('Receiver Operating Characteristic')\n",
    "    plt.plot(fpr, tpr, color = 'orange', label = 'AUC = %0.2f' % auc)\n",
    "    plt.legend(loc = 'lower right')\n",
    "    plt.plot([0, 1], [0, 1],'r--')\n",
    "    plt.xlim([0, 1])\n",
    "    plt.ylim([0, 1])\n",
    "    plt.ylabel('True Positive Rate')\n",
    "    plt.xlabel('False Positive Rate')\n",
    "    plt.show()\n",
    "    \n",
    "plot_auc(y_test, probabilities)   "
   ]
  },
  {
   "cell_type": "code",
   "execution_count": 71,
   "metadata": {},
   "outputs": [
    {
     "name": "stdout",
     "output_type": "stream",
     "text": [
      "(500, 21)\n",
      "(500, 26)\n"
     ]
    }
   ],
   "source": [
    "def calc_age_test(birthday):\n",
    "    today = date(1998, 1, 1)\n",
    "    birthday = list(map(int, birthday.split('/')))\n",
    "    born = date(birthday[2], birthday[0], birthday[1])\n",
    "    return today.year - born.year - ((today.month, today.day) < (born.month, born.day))\n",
    "\n",
    "test = pd.read_csv('AW_test.csv')\n",
    "test['Age'] = [calc_age_test(birthday) for birthday in test['BirthDate']]\n",
    "\n",
    "cat_cols = ['Education', 'Occupation', 'Gender', 'MaritalStatus', 'CountryRegionName']\n",
    "num_cols = ['Age', 'YearlyIncome', 'TotalChildren', 'NumberChildrenAtHome', 'NumberCarsOwned']\n",
    "cat_already_encoded = ['HomeOwnerFlag']\n",
    "\n",
    "Features = encode_string(test[cat_cols])\n",
    "Features = np.concatenate([Features, np.array(test[cat_already_encoded])], axis=1)\n",
    "print(Features.shape)\n",
    "Features = np.concatenate([Features, np.array(test[num_cols])], axis=1)\n",
    "print(Features.shape)\n",
    "Features[:,21:] = scaler.transform(Features[:,21:])\n",
    "\n",
    "probabilities = logistic_mod.predict_proba(Features)\n",
    "\n",
    "scores = score_model(probabilities, .5)"
   ]
  },
  {
   "cell_type": "code",
   "execution_count": 75,
   "metadata": {},
   "outputs": [],
   "source": [
    "test_out = pd.DataFrame(scores)"
   ]
  },
  {
   "cell_type": "code",
   "execution_count": 77,
   "metadata": {},
   "outputs": [],
   "source": [
    "test_out.to_csv('test1.csv')"
   ]
  },
  {
   "cell_type": "code",
   "execution_count": null,
   "metadata": {},
   "outputs": [],
   "source": []
  }
 ],
 "metadata": {
  "kernelspec": {
   "display_name": "Python 3",
   "language": "python",
   "name": "python3"
  },
  "language_info": {
   "codemirror_mode": {
    "name": "ipython",
    "version": 3
   },
   "file_extension": ".py",
   "mimetype": "text/x-python",
   "name": "python",
   "nbconvert_exporter": "python",
   "pygments_lexer": "ipython3",
   "version": "3.7.3"
  }
 },
 "nbformat": 4,
 "nbformat_minor": 2
}
