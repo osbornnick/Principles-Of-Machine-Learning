{
 "cells": [
  {
   "cell_type": "code",
   "execution_count": 73,
   "metadata": {},
   "outputs": [],
   "source": [
    "import pandas as pd\n",
    "import matplotlib.pyplot as plt\n",
    "import seaborn as sns\n",
    "import numpy as np\n",
    "import numpy.random as nr\n",
    "import math\n",
    "from datetime import date\n",
    "\n",
    "def calc_age(birthday):\n",
    "    today = date(1998, 1, 1)\n",
    "    birthday = list(map(int, birthday.split('-')))\n",
    "    born = date(birthday[0], birthday[1], birthday[2])\n",
    "    return today.year - born.year - ((today.month, today.day) < (born.month, born.day))\n",
    "\n",
    "%matplotlib inline"
   ]
  },
  {
   "cell_type": "code",
   "execution_count": 74,
   "metadata": {},
   "outputs": [],
   "source": [
    "features = pd.read_csv('AdvWorksCusts.csv')\n",
    "label1 = pd.read_csv('AW_AveMonthSpend.csv')\n",
    "label2 = pd.read_csv('AW_BikeBuyer.csv')"
   ]
  },
  {
   "cell_type": "markdown",
   "metadata": {},
   "source": [
    "## Feature Cleaning"
   ]
  },
  {
   "cell_type": "code",
   "execution_count": 75,
   "metadata": {},
   "outputs": [
    {
     "name": "stdout",
     "output_type": "stream",
     "text": [
      "(16519, 23)\n",
      "(16404, 24)\n",
      "Index(['CustomerID', 'Title', 'FirstName', 'MiddleName', 'LastName', 'Suffix',\n",
      "       'AddressLine1', 'AddressLine2', 'City', 'StateProvinceName',\n",
      "       'CountryRegionName', 'PostalCode', 'PhoneNumber', 'BirthDate',\n",
      "       'Education', 'Occupation', 'Gender', 'MaritalStatus', 'HomeOwnerFlag',\n",
      "       'NumberCarsOwned', 'NumberChildrenAtHome', 'TotalChildren',\n",
      "       'YearlyIncome', 'Age'],\n",
      "      dtype='object')\n"
     ]
    },
    {
     "data": {
      "text/html": [
       "<div>\n",
       "<style scoped>\n",
       "    .dataframe tbody tr th:only-of-type {\n",
       "        vertical-align: middle;\n",
       "    }\n",
       "\n",
       "    .dataframe tbody tr th {\n",
       "        vertical-align: top;\n",
       "    }\n",
       "\n",
       "    .dataframe thead th {\n",
       "        text-align: right;\n",
       "    }\n",
       "</style>\n",
       "<table border=\"1\" class=\"dataframe\">\n",
       "  <thead>\n",
       "    <tr style=\"text-align: right;\">\n",
       "      <th></th>\n",
       "      <th>CustomerID</th>\n",
       "      <th>Title</th>\n",
       "      <th>FirstName</th>\n",
       "      <th>MiddleName</th>\n",
       "      <th>LastName</th>\n",
       "      <th>Suffix</th>\n",
       "      <th>AddressLine1</th>\n",
       "      <th>AddressLine2</th>\n",
       "      <th>City</th>\n",
       "      <th>StateProvinceName</th>\n",
       "      <th>...</th>\n",
       "      <th>Education</th>\n",
       "      <th>Occupation</th>\n",
       "      <th>Gender</th>\n",
       "      <th>MaritalStatus</th>\n",
       "      <th>HomeOwnerFlag</th>\n",
       "      <th>NumberCarsOwned</th>\n",
       "      <th>NumberChildrenAtHome</th>\n",
       "      <th>TotalChildren</th>\n",
       "      <th>YearlyIncome</th>\n",
       "      <th>Age</th>\n",
       "    </tr>\n",
       "  </thead>\n",
       "  <tbody>\n",
       "    <tr>\n",
       "      <th>0</th>\n",
       "      <td>11000</td>\n",
       "      <td>NaN</td>\n",
       "      <td>Jon</td>\n",
       "      <td>V</td>\n",
       "      <td>Yang</td>\n",
       "      <td>NaN</td>\n",
       "      <td>3761 N. 14th St</td>\n",
       "      <td>NaN</td>\n",
       "      <td>Rockhampton</td>\n",
       "      <td>Queensland</td>\n",
       "      <td>...</td>\n",
       "      <td>Bachelors</td>\n",
       "      <td>Professional</td>\n",
       "      <td>M</td>\n",
       "      <td>M</td>\n",
       "      <td>1</td>\n",
       "      <td>0</td>\n",
       "      <td>0</td>\n",
       "      <td>2</td>\n",
       "      <td>137947</td>\n",
       "      <td>31</td>\n",
       "    </tr>\n",
       "    <tr>\n",
       "      <th>1</th>\n",
       "      <td>11001</td>\n",
       "      <td>NaN</td>\n",
       "      <td>Eugene</td>\n",
       "      <td>L</td>\n",
       "      <td>Huang</td>\n",
       "      <td>NaN</td>\n",
       "      <td>2243 W St.</td>\n",
       "      <td>NaN</td>\n",
       "      <td>Seaford</td>\n",
       "      <td>Victoria</td>\n",
       "      <td>...</td>\n",
       "      <td>Bachelors</td>\n",
       "      <td>Professional</td>\n",
       "      <td>M</td>\n",
       "      <td>S</td>\n",
       "      <td>0</td>\n",
       "      <td>1</td>\n",
       "      <td>3</td>\n",
       "      <td>3</td>\n",
       "      <td>101141</td>\n",
       "      <td>32</td>\n",
       "    </tr>\n",
       "    <tr>\n",
       "      <th>2</th>\n",
       "      <td>11002</td>\n",
       "      <td>NaN</td>\n",
       "      <td>Ruben</td>\n",
       "      <td>NaN</td>\n",
       "      <td>Torres</td>\n",
       "      <td>NaN</td>\n",
       "      <td>5844 Linden Land</td>\n",
       "      <td>NaN</td>\n",
       "      <td>Hobart</td>\n",
       "      <td>Tasmania</td>\n",
       "      <td>...</td>\n",
       "      <td>Bachelors</td>\n",
       "      <td>Professional</td>\n",
       "      <td>M</td>\n",
       "      <td>M</td>\n",
       "      <td>1</td>\n",
       "      <td>1</td>\n",
       "      <td>3</td>\n",
       "      <td>3</td>\n",
       "      <td>91945</td>\n",
       "      <td>32</td>\n",
       "    </tr>\n",
       "    <tr>\n",
       "      <th>3</th>\n",
       "      <td>11003</td>\n",
       "      <td>NaN</td>\n",
       "      <td>Christy</td>\n",
       "      <td>NaN</td>\n",
       "      <td>Zhu</td>\n",
       "      <td>NaN</td>\n",
       "      <td>1825 Village Pl.</td>\n",
       "      <td>NaN</td>\n",
       "      <td>North Ryde</td>\n",
       "      <td>New South Wales</td>\n",
       "      <td>...</td>\n",
       "      <td>Bachelors</td>\n",
       "      <td>Professional</td>\n",
       "      <td>F</td>\n",
       "      <td>S</td>\n",
       "      <td>0</td>\n",
       "      <td>1</td>\n",
       "      <td>0</td>\n",
       "      <td>0</td>\n",
       "      <td>86688</td>\n",
       "      <td>29</td>\n",
       "    </tr>\n",
       "    <tr>\n",
       "      <th>4</th>\n",
       "      <td>11004</td>\n",
       "      <td>NaN</td>\n",
       "      <td>Elizabeth</td>\n",
       "      <td>NaN</td>\n",
       "      <td>Johnson</td>\n",
       "      <td>NaN</td>\n",
       "      <td>7553 Harness Circle</td>\n",
       "      <td>NaN</td>\n",
       "      <td>Wollongong</td>\n",
       "      <td>New South Wales</td>\n",
       "      <td>...</td>\n",
       "      <td>Bachelors</td>\n",
       "      <td>Professional</td>\n",
       "      <td>F</td>\n",
       "      <td>S</td>\n",
       "      <td>1</td>\n",
       "      <td>4</td>\n",
       "      <td>5</td>\n",
       "      <td>5</td>\n",
       "      <td>92771</td>\n",
       "      <td>29</td>\n",
       "    </tr>\n",
       "  </tbody>\n",
       "</table>\n",
       "<p>5 rows × 24 columns</p>\n",
       "</div>"
      ],
      "text/plain": [
       "   CustomerID Title  FirstName MiddleName LastName Suffix  \\\n",
       "0       11000   NaN        Jon          V     Yang    NaN   \n",
       "1       11001   NaN     Eugene          L    Huang    NaN   \n",
       "2       11002   NaN      Ruben        NaN   Torres    NaN   \n",
       "3       11003   NaN    Christy        NaN      Zhu    NaN   \n",
       "4       11004   NaN  Elizabeth        NaN  Johnson    NaN   \n",
       "\n",
       "          AddressLine1 AddressLine2         City StateProvinceName  ...  \\\n",
       "0      3761 N. 14th St          NaN  Rockhampton        Queensland  ...   \n",
       "1           2243 W St.          NaN      Seaford          Victoria  ...   \n",
       "2     5844 Linden Land          NaN       Hobart          Tasmania  ...   \n",
       "3     1825 Village Pl.          NaN   North Ryde   New South Wales  ...   \n",
       "4  7553 Harness Circle          NaN   Wollongong   New South Wales  ...   \n",
       "\n",
       "    Education    Occupation Gender MaritalStatus HomeOwnerFlag  \\\n",
       "0  Bachelors   Professional      M             M             1   \n",
       "1  Bachelors   Professional      M             S             0   \n",
       "2  Bachelors   Professional      M             M             1   \n",
       "3  Bachelors   Professional      F             S             0   \n",
       "4  Bachelors   Professional      F             S             1   \n",
       "\n",
       "  NumberCarsOwned NumberChildrenAtHome TotalChildren  YearlyIncome  Age  \n",
       "0               0                    0             2        137947   31  \n",
       "1               1                    3             3        101141   32  \n",
       "2               1                    3             3         91945   32  \n",
       "3               1                    0             0         86688   29  \n",
       "4               4                    5             5         92771   29  \n",
       "\n",
       "[5 rows x 24 columns]"
      ]
     },
     "execution_count": 75,
     "metadata": {},
     "output_type": "execute_result"
    }
   ],
   "source": [
    "# drop duplicate customer IDs\n",
    "print(features.shape)\n",
    "features = features.drop_duplicates(subset='CustomerID')\n",
    "features['Age'] = [calc_age(birthday) for birthday in features['BirthDate']]\n",
    "print(features.shape)\n",
    "print(features.columns)\n",
    "features.head()"
   ]
  },
  {
   "cell_type": "code",
   "execution_count": 76,
   "metadata": {},
   "outputs": [
    {
     "name": "stdout",
     "output_type": "stream",
     "text": [
      "Title 16316\n",
      "MiddleName 6951\n",
      "Suffix 16402\n",
      "AddressLine2 16130\n",
      "Shape: (16404, 24)\n",
      "New shape: (16404, 17)\n"
     ]
    }
   ],
   "source": [
    "# Identify and drop columns that are mostly empty\n",
    "for col in features.columns:\n",
    "    if features[col].dtype == object:\n",
    "        count = 0\n",
    "        count = [count + 1 for x in features[col] if pd.isnull(x)]\n",
    "        if sum(count) > features.shape[0] / 4:\n",
    "            print(col + ' ' + str(sum(count)))\n",
    "\n",
    "blank = ['Title', 'MiddleName', 'Suffix', 'AddressLine2', 'FirstName', 'LastName', 'AddressLine1']\n",
    "\n",
    "def drop_features(df, feature_list):\n",
    "    print('Shape: {}'.format(df.shape))\n",
    "    for feature in feature_list:\n",
    "        df.drop(feature, axis= 1, inplace=True)\n",
    "        \n",
    "    print('New shape: {}'.format(df.shape))\n",
    "    \n",
    "drop_features(features, blank)\n"
   ]
  },
  {
   "cell_type": "code",
   "execution_count": 5,
   "metadata": {},
   "outputs": [
    {
     "data": {
      "text/plain": [
       "([0, 1, 2, 3, 4], <a list of 5 Text xticklabel objects>)"
      ]
     },
     "execution_count": 5,
     "metadata": {},
     "output_type": "execute_result"
    },
    {
     "data": {
      "image/png": "[encoded data removed]",
      "text/plain": [
       "<Figure size 432x288 with 1 Axes>"
      ]
     },
     "metadata": {
      "needs_background": "light"
     },
     "output_type": "display_data"
    }
   ],
   "source": [
    "# how many unique features?\n",
    "#for col in features.columns:\n",
    "#    print(\"{}: {}\".format(col, features[col].unique().shape[0]))\n",
    "occupations = features['Occupation'].unique()\n",
    "med_income = {}\n",
    "for occupation in occupations:\n",
    "    med_income[occupation] = np.median(features.loc[features['Occupation'] == occupation]['YearlyIncome'])\n",
    "plt.bar(med_income.keys(), med_income.values())\n",
    "plt.xticks(rotation=90)"
   ]
  },
  {
   "cell_type": "code",
   "execution_count": 6,
   "metadata": {},
   "outputs": [
    {
     "name": "stdout",
     "output_type": "stream",
     "text": [
      "for M customers between ages 0-25, mean AveMonthSpend is: 74.91269841269842\n",
      "for M customers between ages 25-45, mean AveMonthSpend is: 93.75100806451613\n",
      "for M customers between ages 55-87, mean AveMonthSpend is: 71.39908256880734\n",
      "for F customers between ages 0-25, mean AveMonthSpend is: 49.6900826446281\n",
      "for F customers between ages 25-45, mean AveMonthSpend is: 59.86576354679803\n",
      "for F customers between ages 55-87, mean AveMonthSpend is: 46.17948717948718\n"
     ]
    },
    {
     "data": {
      "text/plain": [
       "46.17948717948718"
      ]
     },
     "execution_count": 6,
     "metadata": {},
     "output_type": "execute_result"
    }
   ],
   "source": [
    "# which age/gender group spends the most?\n",
    "def calc_age(birthday):\n",
    "    today = date(1998, 1, 1)\n",
    "    birthday = list(map(int, birthday.split('-')))\n",
    "    born = date(birthday[0], birthday[1], birthday[2])\n",
    "    return today.year - born.year - ((today.month, today.day) < (born.month, born.day))\n",
    "\n",
    "temp = features\n",
    "temp = temp.merge(label1, how='left', on='CustomerID')\n",
    "temp['Age'] = [calc_age(birthday) for birthday in temp['BirthDate']]\n",
    "def mean_spending(frame, age, gender):\n",
    "    series = frame.loc[(frame['Age'] > age[0]) & (frame['Age'] <= age[1]) & (frame['Gender'] == gender)]['AveMonthSpend']\n",
    "    meanspend = np.mean(series)\n",
    "    print('for {} customers between ages {}-{}, mean AveMonthSpend is: {}'.format(gender, age[0], age[1], meanspend))\n",
    "    return meanspend\n",
    "\n",
    "mean_spending(temp, [0, 25], 'M')\n",
    "mean_spending(temp, [25, 45], 'M')\n",
    "mean_spending(temp, [55, np.max(temp['Age'])], 'M')\n",
    "\n",
    "mean_spending(temp, [0, 25], 'F')\n",
    "mean_spending(temp, [25, 45], 'F')\n",
    "mean_spending(temp, [55, np.max(temp['Age'])], 'F')\n",
    "\n"
   ]
  },
  {
   "cell_type": "code",
   "execution_count": 7,
   "metadata": {},
   "outputs": [
    {
     "data": {
      "text/plain": [
       "array([0, 1, 2, 3, 4], dtype=int64)"
      ]
     },
     "execution_count": 7,
     "metadata": {},
     "output_type": "execute_result"
    }
   ],
   "source": [
    "temp.head()\n",
    "np.sort(temp['NumberCarsOwned'].unique())"
   ]
  },
  {
   "cell_type": "code",
   "execution_count": 24,
   "metadata": {},
   "outputs": [
    {
     "name": "stdout",
     "output_type": "stream",
     "text": [
      "range of male AveMonthSpend: 147\n",
      "range of female AveMonthSpend: 92\n"
     ]
    },
    {
     "data": {
      "image/png": "[encoded data removed]",
      "text/plain": [
       "<Figure size 432x288 with 1 Axes>"
      ]
     },
     "metadata": {
      "needs_background": "light"
     },
     "output_type": "display_data"
    },
    {
     "data": {
      "image/png": "[encoded data removed]",
      "text/plain": [
       "<Figure size 432x288 with 1 Axes>"
      ]
     },
     "metadata": {
      "needs_background": "light"
     },
     "output_type": "display_data"
    },
    {
     "data": {
      "image/png": "[encoded data removed]",
      "text/plain": [
       "<Figure size 432x288 with 1 Axes>"
      ]
     },
     "metadata": {
      "needs_background": "light"
     },
     "output_type": "display_data"
    },
    {
     "data": {
      "image/png": "[encoded data removed]",
      "text/plain": [
       "<Figure size 432x288 with 1 Axes>"
      ]
     },
     "metadata": {
      "needs_background": "light"
     },
     "output_type": "display_data"
    }
   ],
   "source": [
    "temp = features\n",
    "temp = temp.merge(label1, how='left', on='CustomerID')\n",
    "\n",
    "def plot_relation():\n",
    "    single = temp.loc[temp['MaritalStatus'] == 'S']\n",
    "    married = temp.loc[temp['MaritalStatus'] == 'M']\n",
    "    \n",
    "    plt.figure()\n",
    "    plt.bar(['single', 'married'], [np.median(single['AveMonthSpend']), np.median(married['AveMonthSpend'])])\n",
    "    plt.ylabel('Median AveMonthSpend')\n",
    "    plt.xlabel('Marital Status')\n",
    "    plt.xticks(rotation=90)\n",
    "    \n",
    "def plot_car():\n",
    "    cars = np.sort(temp['NumberCarsOwned'].unique())\n",
    "    med_spend = []\n",
    "    for car in cars:\n",
    "        series = temp.loc[temp['NumberCarsOwned'] == car]\n",
    "        med_spend.append(np.median(series['AveMonthSpend']))\n",
    "        \n",
    "    plt.figure()\n",
    "    plt.bar(cars, med_spend)\n",
    "    plt.ylabel('Median AveMonthSpend')\n",
    "    plt.xlabel('Cars Owned')\n",
    "        \n",
    "def plot_gender():\n",
    "    men = temp.loc[temp['Gender'] == 'M']\n",
    "    women = temp.loc[temp['Gender'] == 'F']\n",
    "    men_sal = np.median(men['AveMonthSpend'])\n",
    "    wom_sal = np.median(women['AveMonthSpend'])\n",
    "    \n",
    "    plt.figure()\n",
    "    plt.bar(['men', 'women'], [men_sal, wom_sal])\n",
    "    plt.xlabel('Gender')\n",
    "    plt.ylabel('Median AveMonthSpend')\n",
    "    print('range of male AveMonthSpend: {}'.format(np.max(men['AveMonthSpend']) - np.min(men['AveMonthSpend'])))\n",
    "    print('range of female AveMonthSpend: {}'.format(np.max(women['AveMonthSpend']) - np.min(women['AveMonthSpend'])))\n",
    "    \n",
    "def plot_kids():\n",
    "    kids = np.sort(temp['NumberChildrenAtHome'].unique())\n",
    "    med_spend = []\n",
    "    for kid in kids:\n",
    "        series = temp.loc[temp['NumberChildrenAtHome'] == kid]\n",
    "        med_spend.append(np.median(series['AveMonthSpend']))\n",
    "        \n",
    "    plt.figure()\n",
    "    plt.bar(kids, med_spend)\n",
    "    plt.xlabel('Num of Kids')\n",
    "    plt.ylabel('Median AveMonthSpend')\n",
    "    \n",
    "plot_relation()\n",
    "plot_car()\n",
    "plot_gender()\n",
    "plot_kids()"
   ]
  },
  {
   "cell_type": "markdown",
   "metadata": {},
   "source": [
    "## label1: AveMonthSpend"
   ]
  },
  {
   "cell_type": "code",
   "execution_count": 9,
   "metadata": {},
   "outputs": [
    {
     "name": "stdout",
     "output_type": "stream",
     "text": [
      "(16519, 2)\n",
      "(16404, 2)\n",
      "0\n"
     ]
    }
   ],
   "source": [
    "# drop duplicates rows\n",
    "print(label1.shape)\n",
    "label1= label1.drop_duplicates(subset='CustomerID')\n",
    "print(label1.shape)\n",
    "print(label1['AveMonthSpend'].isnull().sum())"
   ]
  },
  {
   "cell_type": "code",
   "execution_count": 10,
   "metadata": {},
   "outputs": [
    {
     "name": "stdout",
     "output_type": "stream",
     "text": [
      "min AveMonthSpend = 22\n",
      "max AveMonthSpend = 176\n",
      "mean AveMonthSpend = 72.3899049012436\n",
      "median AveMonthSpend = 68.0\n",
      "std AveMonthSpend = 27.268736937346997\n"
     ]
    },
    {
     "data": {
      "text/plain": [
       "Text(0, 0.5, 'Density')"
      ]
     },
     "execution_count": 10,
     "metadata": {},
     "output_type": "execute_result"
    },
    {
     "data": {
      "image/png": "[encoded data removed]",
      "text/plain": [
       "<Figure size 432x288 with 1 Axes>"
      ]
     },
     "metadata": {
      "needs_background": "light"
     },
     "output_type": "display_data"
    }
   ],
   "source": [
    "print('min AveMonthSpend = {}'.format(np.min(label1['AveMonthSpend'])))\n",
    "print('max AveMonthSpend = {}'.format(np.max(label1['AveMonthSpend'])))\n",
    "print('mean AveMonthSpend = {}'.format(np.mean(label1['AveMonthSpend'])))\n",
    "print('median AveMonthSpend = {}'.format(np.median(label1['AveMonthSpend'])))\n",
    "print('std AveMonthSpend = {}'.format(np.std(label1['AveMonthSpend'])))\n",
    "\n",
    "sns.distplot(label1['AveMonthSpend'])\n",
    "plt.title('Histogram of Ave Monthly Spending')\n",
    "plt.xlabel('Average Monthly Spending')\n",
    "plt.ylabel('Density')"
   ]
  },
  {
   "cell_type": "markdown",
   "metadata": {},
   "source": [
    "## label2: Bike Buyer"
   ]
  },
  {
   "cell_type": "code",
   "execution_count": 11,
   "metadata": {},
   "outputs": [
    {
     "name": "stdout",
     "output_type": "stream",
     "text": [
      "(16519, 2)\n",
      "(16404, 2)\n"
     ]
    }
   ],
   "source": [
    "print(label2.shape)\n",
    "label2 = label2.drop_duplicates(subset='CustomerID')\n",
    "print(label2.shape)"
   ]
  },
  {
   "cell_type": "code",
   "execution_count": 12,
   "metadata": {},
   "outputs": [
    {
     "data": {
      "text/plain": [
       "0    10953\n",
       "1     5451\n",
       "Name: BikeBuyer, dtype: int64"
      ]
     },
     "execution_count": 12,
     "metadata": {},
     "output_type": "execute_result"
    }
   ],
   "source": [
    "label2['BikeBuyer'].value_counts()"
   ]
  },
  {
   "cell_type": "code",
   "execution_count": 54,
   "metadata": {},
   "outputs": [
    {
     "data": {
      "text/html": [
       "<div>\n",
       "<style scoped>\n",
       "    .dataframe tbody tr th:only-of-type {\n",
       "        vertical-align: middle;\n",
       "    }\n",
       "\n",
       "    .dataframe tbody tr th {\n",
       "        vertical-align: top;\n",
       "    }\n",
       "\n",
       "    .dataframe thead th {\n",
       "        text-align: right;\n",
       "    }\n",
       "</style>\n",
       "<table border=\"1\" class=\"dataframe\">\n",
       "  <thead>\n",
       "    <tr style=\"text-align: right;\">\n",
       "      <th></th>\n",
       "      <th>CustomerID</th>\n",
       "      <th>City</th>\n",
       "      <th>StateProvinceName</th>\n",
       "      <th>CountryRegionName</th>\n",
       "      <th>PostalCode</th>\n",
       "      <th>PhoneNumber</th>\n",
       "      <th>BirthDate</th>\n",
       "      <th>Education</th>\n",
       "      <th>Occupation</th>\n",
       "      <th>Gender</th>\n",
       "      <th>MaritalStatus</th>\n",
       "      <th>HomeOwnerFlag</th>\n",
       "      <th>NumberCarsOwned</th>\n",
       "      <th>NumberChildrenAtHome</th>\n",
       "      <th>TotalChildren</th>\n",
       "      <th>YearlyIncome</th>\n",
       "    </tr>\n",
       "  </thead>\n",
       "  <tbody>\n",
       "    <tr>\n",
       "      <th>0</th>\n",
       "      <td>11000</td>\n",
       "      <td>Rockhampton</td>\n",
       "      <td>Queensland</td>\n",
       "      <td>Australia</td>\n",
       "      <td>4700</td>\n",
       "      <td>1 (11) 500 555-0162</td>\n",
       "      <td>1966-04-08</td>\n",
       "      <td>Bachelors</td>\n",
       "      <td>Professional</td>\n",
       "      <td>M</td>\n",
       "      <td>M</td>\n",
       "      <td>1</td>\n",
       "      <td>0</td>\n",
       "      <td>0</td>\n",
       "      <td>2</td>\n",
       "      <td>137947</td>\n",
       "    </tr>\n",
       "    <tr>\n",
       "      <th>1</th>\n",
       "      <td>11001</td>\n",
       "      <td>Seaford</td>\n",
       "      <td>Victoria</td>\n",
       "      <td>Australia</td>\n",
       "      <td>3198</td>\n",
       "      <td>1 (11) 500 555-0110</td>\n",
       "      <td>1965-05-14</td>\n",
       "      <td>Bachelors</td>\n",
       "      <td>Professional</td>\n",
       "      <td>M</td>\n",
       "      <td>S</td>\n",
       "      <td>0</td>\n",
       "      <td>1</td>\n",
       "      <td>3</td>\n",
       "      <td>3</td>\n",
       "      <td>101141</td>\n",
       "    </tr>\n",
       "    <tr>\n",
       "      <th>2</th>\n",
       "      <td>11002</td>\n",
       "      <td>Hobart</td>\n",
       "      <td>Tasmania</td>\n",
       "      <td>Australia</td>\n",
       "      <td>7001</td>\n",
       "      <td>1 (11) 500 555-0184</td>\n",
       "      <td>1965-08-12</td>\n",
       "      <td>Bachelors</td>\n",
       "      <td>Professional</td>\n",
       "      <td>M</td>\n",
       "      <td>M</td>\n",
       "      <td>1</td>\n",
       "      <td>1</td>\n",
       "      <td>3</td>\n",
       "      <td>3</td>\n",
       "      <td>91945</td>\n",
       "    </tr>\n",
       "    <tr>\n",
       "      <th>3</th>\n",
       "      <td>11003</td>\n",
       "      <td>North Ryde</td>\n",
       "      <td>New South Wales</td>\n",
       "      <td>Australia</td>\n",
       "      <td>2113</td>\n",
       "      <td>1 (11) 500 555-0162</td>\n",
       "      <td>1968-02-15</td>\n",
       "      <td>Bachelors</td>\n",
       "      <td>Professional</td>\n",
       "      <td>F</td>\n",
       "      <td>S</td>\n",
       "      <td>0</td>\n",
       "      <td>1</td>\n",
       "      <td>0</td>\n",
       "      <td>0</td>\n",
       "      <td>86688</td>\n",
       "    </tr>\n",
       "    <tr>\n",
       "      <th>4</th>\n",
       "      <td>11004</td>\n",
       "      <td>Wollongong</td>\n",
       "      <td>New South Wales</td>\n",
       "      <td>Australia</td>\n",
       "      <td>2500</td>\n",
       "      <td>1 (11) 500 555-0131</td>\n",
       "      <td>1968-08-08</td>\n",
       "      <td>Bachelors</td>\n",
       "      <td>Professional</td>\n",
       "      <td>F</td>\n",
       "      <td>S</td>\n",
       "      <td>1</td>\n",
       "      <td>4</td>\n",
       "      <td>5</td>\n",
       "      <td>5</td>\n",
       "      <td>92771</td>\n",
       "    </tr>\n",
       "  </tbody>\n",
       "</table>\n",
       "</div>"
      ],
      "text/plain": [
       "   CustomerID         City StateProvinceName CountryRegionName PostalCode  \\\n",
       "0       11000  Rockhampton        Queensland         Australia       4700   \n",
       "1       11001      Seaford          Victoria         Australia       3198   \n",
       "2       11002       Hobart          Tasmania         Australia       7001   \n",
       "3       11003   North Ryde   New South Wales         Australia       2113   \n",
       "4       11004   Wollongong   New South Wales         Australia       2500   \n",
       "\n",
       "           PhoneNumber   BirthDate   Education    Occupation Gender  \\\n",
       "0  1 (11) 500 555-0162  1966-04-08  Bachelors   Professional      M   \n",
       "1  1 (11) 500 555-0110  1965-05-14  Bachelors   Professional      M   \n",
       "2  1 (11) 500 555-0184  1965-08-12  Bachelors   Professional      M   \n",
       "3  1 (11) 500 555-0162  1968-02-15  Bachelors   Professional      F   \n",
       "4  1 (11) 500 555-0131  1968-08-08  Bachelors   Professional      F   \n",
       "\n",
       "  MaritalStatus  HomeOwnerFlag  NumberCarsOwned  NumberChildrenAtHome  \\\n",
       "0             M              1                0                     0   \n",
       "1             S              0                1                     3   \n",
       "2             M              1                1                     3   \n",
       "3             S              0                1                     0   \n",
       "4             S              1                4                     5   \n",
       "\n",
       "   TotalChildren  YearlyIncome  \n",
       "0              2        137947  \n",
       "1              3        101141  \n",
       "2              3         91945  \n",
       "3              0         86688  \n",
       "4              5         92771  "
      ]
     },
     "execution_count": 54,
     "metadata": {},
     "output_type": "execute_result"
    }
   ],
   "source": [
    "features.head()"
   ]
  },
  {
   "cell_type": "code",
   "execution_count": 61,
   "metadata": {},
   "outputs": [
    {
     "data": {
      "text/html": [
       "<div>\n",
       "<style scoped>\n",
       "    .dataframe tbody tr th:only-of-type {\n",
       "        vertical-align: middle;\n",
       "    }\n",
       "\n",
       "    .dataframe tbody tr th {\n",
       "        vertical-align: top;\n",
       "    }\n",
       "\n",
       "    .dataframe thead th {\n",
       "        text-align: right;\n",
       "    }\n",
       "</style>\n",
       "<table border=\"1\" class=\"dataframe\">\n",
       "  <thead>\n",
       "    <tr style=\"text-align: right;\">\n",
       "      <th></th>\n",
       "      <th>BikeBuyer</th>\n",
       "    </tr>\n",
       "    <tr>\n",
       "      <th>NumberCarsOwned</th>\n",
       "      <th></th>\n",
       "    </tr>\n",
       "  </thead>\n",
       "  <tbody>\n",
       "    <tr>\n",
       "      <th>0</th>\n",
       "      <td>3833</td>\n",
       "    </tr>\n",
       "    <tr>\n",
       "      <th>1</th>\n",
       "      <td>4424</td>\n",
       "    </tr>\n",
       "    <tr>\n",
       "      <th>2</th>\n",
       "      <td>5876</td>\n",
       "    </tr>\n",
       "    <tr>\n",
       "      <th>3</th>\n",
       "      <td>1459</td>\n",
       "    </tr>\n",
       "    <tr>\n",
       "      <th>4</th>\n",
       "      <td>1157</td>\n",
       "    </tr>\n",
       "  </tbody>\n",
       "</table>\n",
       "</div>"
      ],
      "text/plain": [
       "                 BikeBuyer\n",
       "NumberCarsOwned           \n",
       "0                     3833\n",
       "1                     4424\n",
       "2                     5876\n",
       "3                     1459\n",
       "4                     1157"
      ]
     },
     "execution_count": 61,
     "metadata": {},
     "output_type": "execute_result"
    }
   ],
   "source": [
    "temp[['NumberCarsOwned', 'BikeBuyer']].groupby('NumberCarsOwned').count()"
   ]
  },
  {
   "cell_type": "code",
   "execution_count": 62,
   "metadata": {},
   "outputs": [
    {
     "data": {
      "image/png": "[encoded data removed]",
      "text/plain": [
       "<Figure size 432x288 with 1 Axes>"
      ]
     },
     "metadata": {},
     "output_type": "display_data"
    },
    {
     "data": {
      "image/png": "[encoded data removed]",
      "text/plain": [
       "<Figure size 432x288 with 1 Axes>"
      ]
     },
     "metadata": {},
     "output_type": "display_data"
    },
    {
     "data": {
      "image/png": "[encoded data removed]",
      "text/plain": [
       "<Figure size 432x288 with 1 Axes>"
      ]
     },
     "metadata": {},
     "output_type": "display_data"
    },
    {
     "name": "stdout",
     "output_type": "stream",
     "text": [
      "0.24870122692605284 of married folks buy bikes\n",
      "0.4298883406907297 of single folks buy bikes\n"
     ]
    },
    {
     "data": {
      "image/png": "[encoded data removed]",
      "text/plain": [
       "<Figure size 432x288 with 1 Axes>"
      ]
     },
     "metadata": {},
     "output_type": "display_data"
    }
   ],
   "source": [
    "temp = features\n",
    "temp = temp.merge(label2, how='left', on='CustomerID')\n",
    "temp['Age'] = [calc_age(birthday) for birthday in temp['BirthDate']]\n",
    "\n",
    "def plot_box(x, y):\n",
    "    \n",
    "    sns.set_style(\"whitegrid\")\n",
    "    sns.boxplot(x, y, data=temp)\n",
    "    plt.xlabel(x) # Set text for the x axis\n",
    "    plt.ylabel(y)# Set text for y axis\n",
    "    plt.show()\n",
    "    \n",
    "def plot_mvf():\n",
    "    m = temp.loc[temp['Gender'] == 'M']\n",
    "    f = temp.loc[temp['Gender'] == 'F']\n",
    "    m_b = np.sum(m['BikeBuyer'])\n",
    "    f_b = np.sum(f['BikeBuyer'])\n",
    "    \n",
    "    plt.figure()\n",
    "    plt.bar(['M', 'F'], [m_b / m.shape[0], f_b/f.shape[0]])\n",
    "    plt.xlabel('Gender')\n",
    "    plt.ylabel('Bikes bought')\n",
    "    \n",
    "def married():\n",
    "    married = temp.loc[temp['MaritalStatus'] == 'M']\n",
    "    single = temp.loc[temp['MaritalStatus'] == 'S']\n",
    "    print('{} of married folks buy bikes'.format(np.sum(married['BikeBuyer'])/married.shape[0]))\n",
    "    print('{} of single folks buy bikes'.format(np.sum(single['BikeBuyer'])/single.shape[0]))\n",
    "    \n",
    "plot_box('BikeBuyer', 'YearlyIncome')\n",
    "plot_box('BikeBuyer', 'NumberCarsOwned')\n",
    "plot_box('BikeBuyer', 'Age')\n",
    "plot_mvf()\n",
    "married()"
   ]
  },
  {
   "cell_type": "code",
   "execution_count": 84,
   "metadata": {},
   "outputs": [
    {
     "name": "stdout",
     "output_type": "stream",
     "text": [
      "Density of Bachelors  in Education: 0.39238683127572016\n",
      "Density of Partial College in Education: 0.3389010989010989\n",
      "Density of High School in Education: 0.3020557029177719\n",
      "Density of Partial High School in Education: 0.23259052924791088\n",
      "Density of Graduate Degree in Education: 0.30031174229303775\n",
      "Density of Professional in Occupation: 0.44400396432111\n",
      "Density of Management in Occupation: 0.37165582067968184\n",
      "Density of Skilled Manual in Occupation: 0.27967953386744354\n",
      "Density of Clerical in Occupation: 0.23807735636500188\n",
      "Density of Manual in Occupation: 0.23515769944341372\n",
      "Density of M in Gender: 0.3877021125929423\n",
      "Density of F in Gender: 0.2750120831319478\n",
      "Density of M in MaritalStatus: 0.24870122692605284\n",
      "Density of S in MaritalStatus: 0.4298883406907297\n"
     ]
    }
   ],
   "source": [
    "temp.loc[temp['BikeBuyer'] == 1]['Occupation'].value_counts()\n",
    "cat_cols = ['Education', 'Occupation', 'Gender', 'MaritalStatus']\n",
    "\n",
    "def density(df, cat_cols):\n",
    "    for cat in cat_cols:\n",
    "        options = df[cat].unique()\n",
    "        for option in options:\n",
    "            partial = df.loc[df['BikeBuyer'] == 1][cat].value_counts()[option]\n",
    "            \n",
    "            total = df[cat].value_counts()[option]\n",
    "            print('Density of {} in {}: {}'.format(option, cat, partial/total))\n",
    "            \n",
    "density(temp, cat_cols)"
   ]
  },
  {
   "cell_type": "code",
   "execution_count": 86,
   "metadata": {},
   "outputs": [],
   "source": [
    "num_cols = ['Age', 'YearlyIncome', 'TotalChildren', 'NumberChildrenAtHome', 'NumberCarsOwned']\n",
    "cat_already_encoded = ['HomeOwnerFlag']"
   ]
  },
  {
   "cell_type": "code",
   "execution_count": 85,
   "metadata": {},
   "outputs": [
    {
     "data": {
      "text/plain": [
       "Index(['CustomerID', 'City', 'StateProvinceName', 'CountryRegionName',\n",
       "       'PostalCode', 'PhoneNumber', 'BirthDate', 'Education', 'Occupation',\n",
       "       'Gender', 'MaritalStatus', 'HomeOwnerFlag', 'NumberCarsOwned',\n",
       "       'NumberChildrenAtHome', 'TotalChildren', 'YearlyIncome', 'Age'],\n",
       "      dtype='object')"
      ]
     },
     "execution_count": 85,
     "metadata": {},
     "output_type": "execute_result"
    }
   ],
   "source": [
    "features.columns"
   ]
  },
  {
   "cell_type": "code",
   "execution_count": null,
   "metadata": {},
   "outputs": [],
   "source": []
  }
 ],
 "metadata": {
  "kernelspec": {
   "display_name": "Python 3",
   "language": "python",
   "name": "python3"
  },
  "language_info": {
   "codemirror_mode": {
    "name": "ipython",
    "version": 3
   },
   "file_extension": ".py",
   "mimetype": "text/x-python",
   "name": "python",
   "nbconvert_exporter": "python",
   "pygments_lexer": "ipython3",
   "version": "3.7.3"
  }
 },
 "nbformat": 4,
 "nbformat_minor": 2
}
